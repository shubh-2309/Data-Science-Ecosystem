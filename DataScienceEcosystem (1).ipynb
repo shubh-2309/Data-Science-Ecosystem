{
 "cells": [
  {
   "cell_type": "markdown",
   "id": "aca8505b-00e3-41d2-9692-b326acc7c5e8",
   "metadata": {},
   "source": [
    "# Data Science Tools and Ecosystem"
   ]
  },
  {
   "cell_type": "markdown",
   "id": "da64ef75-6ee5-4bc5-901c-9a5d121ccf6d",
   "metadata": {},
   "source": [
    "## Author\n",
    "Shubh Mohanka"
   ]
  },
  {
   "cell_type": "markdown",
   "id": "db7243cc-57fa-490c-b666-a8d50e6bc086",
   "metadata": {},
   "source": [
    "In this notebook, Data Science Tools and Ecosystem are summarized."
   ]
  },
  {
   "cell_type": "markdown",
   "id": "0abcb65c-c7ac-4621-a4d4-09045264fa75",
   "metadata": {},
   "source": [
    "**Objectives:**\n",
    "- List popular Languages for Data Science\n",
    "- List Commonly used Libraries by Data Scientists\n",
    "- Examples of evaluating arithmetic expression\n",
    "- Table formation in Jupyter notebook"
   ]
  },
  {
   "cell_type": "markdown",
   "id": "0e62fd8d-e70a-41ee-8bce-fe752d2baee0",
   "metadata": {},
   "source": [
    "Some of the popular languages Data Scientists use are: \n",
    "1. Python\n",
    "2. R\n",
    "3. Scala\n",
    "4. Julia\n",
    "5. Java"
   ]
  },
  {
   "cell_type": "markdown",
   "id": "8fb3e2bf-d54c-448e-85a0-70b2f96511c5",
   "metadata": {},
   "source": [
    "Some of the commonly used Libraries used by Data Scientists are:\n",
    "1. Pandas\n",
    "2. Numpy\n",
    "3. Matplotlib\n",
    "4. Seaborn\n",
    "5. Scikit learn\n",
    "6. Keras\n",
    "7. Tensorflow\n",
    "8. Pytorch"
   ]
  },
  {
   "cell_type": "markdown",
   "id": "9ae5f3aa-2c09-4b22-b851-f6b4e765e28a",
   "metadata": {},
   "source": [
    "| Data Science Tools|\n",
    "|--------------------|\n",
    "|Jupyter Lab|\n",
    "|RStudio|\n",
    "|Spyder|"
   ]
  },
  {
   "cell_type": "markdown",
   "id": "ee95c905-7c45-4a3f-a136-f9da32820208",
   "metadata": {},
   "source": [
    "### Below are a few examples of evaluating arithmetic expressions in python\n",
    "\n"
   ]
  },
  {
   "cell_type": "code",
   "execution_count": 8,
   "id": "2edf0777-963b-44e0-8314-a3b95adc3ee1",
   "metadata": {},
   "outputs": [
    {
     "data": {
      "text/plain": [
       "17"
      ]
     },
     "execution_count": 8,
     "metadata": {},
     "output_type": "execute_result"
    }
   ],
   "source": [
    "#This a simple arithmetic expression to mutiply then add integers.\n",
    "(3*4)+5"
   ]
  },
  {
   "cell_type": "code",
   "execution_count": 10,
   "id": "b7770626-8c36-4cbf-b1b1-a537c539a008",
   "metadata": {},
   "outputs": [
    {
     "data": {
      "text/plain": [
       "3.3333333333333335"
      ]
     },
     "execution_count": 10,
     "metadata": {},
     "output_type": "execute_result"
    }
   ],
   "source": [
    "# This will convert 200 minutes to hours by diving by 60\n",
    "mins = 200\n",
    "hrs = 200/60\n",
    "hrs"
   ]
  },
  {
   "cell_type": "code",
   "execution_count": null,
   "id": "8ea758d0-3a04-45d5-9175-41204e3f7259",
   "metadata": {},
   "outputs": [],
   "source": []
  }
 ],
 "metadata": {
  "kernelspec": {
   "display_name": "Python 3 (ipykernel)",
   "language": "python",
   "name": "python3"
  },
  "language_info": {
   "codemirror_mode": {
    "name": "ipython",
    "version": 3
   },
   "file_extension": ".py",
   "mimetype": "text/x-python",
   "name": "python",
   "nbconvert_exporter": "python",
   "pygments_lexer": "ipython3",
   "version": "3.11.7"
  }
 },
 "nbformat": 4,
 "nbformat_minor": 5
}
